{
 "cells": [
  {
   "cell_type": "markdown",
   "id": "d907d717-ee98-42d4-8f16-5087ca076ee8",
   "metadata": {},
   "source": [
    "<font color = 'blue'> Query: Dato un elenco di dipendenti a Tempo Indeterminato, quanti di questi\n",
    "    in precedenza hanno avuto anche un Tempo Determinato e in quali periodi?\n",
    "\n",
    "</font>"
   ]
  },
  {
   "cell_type": "code",
   "execution_count": null,
   "id": "42b2a92c-2c45-40a9-932e-cab28cdd8006",
   "metadata": {},
   "outputs": [],
   "source": [
    "pip install pandas"
   ]
  },
  {
   "cell_type": "code",
   "execution_count": null,
   "id": "3e2cacf3-9924-45cb-89ec-1c82babc23f1",
   "metadata": {},
   "outputs": [],
   "source": [
    "pip install openpyxl"
   ]
  },
  {
   "cell_type": "code",
   "execution_count": 17,
   "id": "c610a2ed-92a6-44c5-bede-16bc3e169ab4",
   "metadata": {},
   "outputs": [],
   "source": [
    "import pandas as pd\n",
    "\n",
    "#Effettuo l'import dello STATO DI SERVIZIO:\n",
    "\n",
    "df_stato_servizio = pd.read_csv('Stato_di_servizio.csv', sep = ';')\n",
    "\n",
    "#df_stato_servizio.query(\"`Codice livello origine` == '41'\")"
   ]
  },
  {
   "cell_type": "code",
   "execution_count": 18,
   "id": "76873601-87f8-4c5b-9647-55dc9543da2e",
   "metadata": {},
   "outputs": [],
   "source": [
    "# Effettuo l'import del file di Transcodifica:\n",
    "df_transcodifica = pd.read_csv('Transcodifica.csv', sep = ';')\n",
    "\n",
    "#df_transcodifica.query(\"`Codice livello origine` == '41'\")"
   ]
  },
  {
   "cell_type": "code",
   "execution_count": 19,
   "id": "94c2ffcc-0f09-42de-9f9e-210608fafbc7",
   "metadata": {},
   "outputs": [],
   "source": [
    "#Vado ad effettuare il Merge del dataset relativo allo Stato di Servizio con quello relativo alla Transcodifica\n",
    "df_stato_servizio = pd.merge(df_stato_servizio, df_transcodifica, how=\"left\", on=[\"Codice livello origine\"])\n"
   ]
  },
  {
   "cell_type": "code",
   "execution_count": 20,
   "id": "11c602f7-0db8-454f-9a7b-dbc3e6e76b50",
   "metadata": {},
   "outputs": [],
   "source": [
    "# DATAFRAME dal quale vado ad effettuare la ricerca:\n",
    "df_ricerca = pd.read_csv('input_ricerca.csv', sep = ';')"
   ]
  },
  {
   "cell_type": "code",
   "execution_count": 21,
   "id": "d860813b-48fa-483b-a7c5-4d2ee4ec22bc",
   "metadata": {},
   "outputs": [],
   "source": [
    "# Filtering Dataframe rows\n",
    "result = df_stato_servizio[(df_stato_servizio.CodiceFiscale.isin(df_ricerca.cf))]"
   ]
  },
  {
   "cell_type": "code",
   "execution_count": 23,
   "id": "3d6b1336-04ae-48ff-a003-56fb10a61a1f",
   "metadata": {},
   "outputs": [],
   "source": [
    "result.to_excel(\"output_TI_che_sono_stati_TD.xlsx\")  "
   ]
  },
  {
   "cell_type": "code",
   "execution_count": null,
   "id": "0410a51a-d658-438a-b8db-369df7e19653",
   "metadata": {},
   "outputs": [],
   "source": []
  }
 ],
 "metadata": {
  "kernelspec": {
   "display_name": "Python 3 (ipykernel)",
   "language": "python",
   "name": "python3"
  },
  "language_info": {
   "codemirror_mode": {
    "name": "ipython",
    "version": 3
   },
   "file_extension": ".py",
   "mimetype": "text/x-python",
   "name": "python",
   "nbconvert_exporter": "python",
   "pygments_lexer": "ipython3",
   "version": "3.9.7"
  }
 },
 "nbformat": 4,
 "nbformat_minor": 5
}
